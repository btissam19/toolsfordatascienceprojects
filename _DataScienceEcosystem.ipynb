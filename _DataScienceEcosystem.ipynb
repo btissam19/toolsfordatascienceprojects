{
 "cells": [
  {
   "cell_type": "markdown",
   "id": "dab0a10b",
   "metadata": {},
   "source": [
    "# Data Science Tools and Ecosystem"
   ]
  },
  {
   "cell_type": "markdown",
   "id": "192901ea",
   "metadata": {},
   "source": [
    "In this notebook, Data Science Tools and Ecosystem are summarized."
   ]
  },
  {
   "cell_type": "markdown",
   "id": "65f64c31",
   "metadata": {},
   "source": [
    "Objectives:\n",
    "1. ordered list for  popular languages that Data Scientists\n",
    "2. Some of the commonly used libraries used by Data Scientists \n",
    "3. Data science open source tools\n",
    "4. few examples of evaluating arithmetic expressions in Python.\n",
    "5. Create a code cell to multiply and add numbers\n",
    "6.  Create a code cell to convert minutes to hours\n",
    "7. Insert a markdown cell to list Objectives"
   ]
  },
  {
   "cell_type": "markdown",
   "id": "e9e901c3",
   "metadata": {},
   "source": [
    "Some of the popular languages that Data Scientists use are:\n",
    "1. python \n",
    "2. R\n",
    "3. SQL"
   ]
  },
  {
   "cell_type": "markdown",
   "id": "45b8386a",
   "metadata": {},
   "source": [
    "Some of the commonly used libraries used by Data Scientists include:\n",
    "1. sckit-learn \n",
    "2. matplotlib\n",
    "3. pandas"
   ]
  },
  {
   "cell_type": "markdown",
   "id": "66f4d224",
   "metadata": {},
   "source": [
    "| Data Science Tools    |\n",
    "|-----------------------|\n",
    "|Jupyter Notebooks     |\n",
    "|RStudio               |\n",
    "|hadoop|\n"
   ]
  },
  {
   "cell_type": "markdown",
   "id": "4f1321de",
   "metadata": {},
   "source": [
    "### Below are a few examples of evaluating arithmetic expressions in Python."
   ]
  },
  {
   "cell_type": "code",
   "execution_count": 1,
   "id": "c97ca613",
   "metadata": {},
   "outputs": [
    {
     "name": "stdout",
     "output_type": "stream",
     "text": [
      "Addition: 5\n",
      "Subtraction: 3\n",
      "Multiplication: 24\n",
      "Division: 4.0\n",
      "Exponentiation: 8\n",
      "Modulus: 1\n"
     ]
    }
   ],
   "source": [
    "# Addition\n",
    "result_addition = 2 + 3\n",
    "print(\"Addition:\", result_addition)  # Output: 5\n",
    "\n",
    "# Subtraction\n",
    "result_subtraction = 5 - 2\n",
    "print(\"Subtraction:\", result_subtraction)  # Output: 3\n",
    "\n",
    "# Multiplication\n",
    "result_multiplication = 4 * 6\n",
    "print(\"Multiplication:\", result_multiplication)  # Output: 24\n",
    "\n",
    "# Division\n",
    "result_division = 8 / 2\n",
    "print(\"Division:\", result_division)  # Output: 4.0 (Note: Python 3 returns a float)\n",
    "\n",
    "# Exponentiation\n",
    "result_exponentiation = 2 ** 3\n",
    "print(\"Exponentiation:\", result_exponentiation)  # Output: 8\n",
    "\n",
    "# Modulus (Remainder)\n",
    "result_modulus = 10 % 3\n",
    "print(\"Modulus:\", result_modulus)  # Output: 1\n"
   ]
  },
  {
   "cell_type": "code",
   "execution_count": 2,
   "id": "6c6ce169",
   "metadata": {},
   "outputs": [
    {
     "name": "stdout",
     "output_type": "stream",
     "text": [
      "17\n"
     ]
    }
   ],
   "source": [
    "# This is a simple arithmetic expression to multiply then add integers.\n",
    "result = (3 * 4) + 5\n",
    "print(result)  # Output: 17\n"
   ]
  },
  {
   "cell_type": "code",
   "execution_count": 3,
   "id": "acf7e805",
   "metadata": {},
   "outputs": [
    {
     "name": "stdout",
     "output_type": "stream",
     "text": [
      "3.3333333333333335\n"
     ]
    }
   ],
   "source": [
    "# This will convert 200 minutes to hours by dividing by 60.\n",
    "hours = 200 / 60\n",
    "print(hours)  # Output: 3.3333333333333335\n"
   ]
  },
  {
   "cell_type": "markdown",
   "id": "2e02461b",
   "metadata": {},
   "source": [
    "## Author"
   ]
  },
  {
   "cell_type": "markdown",
   "id": "e1f26f74",
   "metadata": {},
   "source": [
    "Ibtissam ech chaibi"
   ]
  },
  {
   "cell_type": "code",
   "execution_count": null,
   "id": "dc0ba1e7",
   "metadata": {},
   "outputs": [],
   "source": []
  }
 ],
 "metadata": {
  "kernelspec": {
   "display_name": "Python 3 (ipykernel)",
   "language": "python",
   "name": "python3"
  },
  "language_info": {
   "codemirror_mode": {
    "name": "ipython",
    "version": 3
   },
   "file_extension": ".py",
   "mimetype": "text/x-python",
   "name": "python",
   "nbconvert_exporter": "python",
   "pygments_lexer": "ipython3",
   "version": "3.11.5"
  }
 },
 "nbformat": 4,
 "nbformat_minor": 5
}
